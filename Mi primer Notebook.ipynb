{
 "cells": [
  {
   "cell_type": "markdown",
   "id": "9dd91c1d",
   "metadata": {},
   "source": [
    "# Ejemplo sobre como utilizar Jupyter"
   ]
  },
  {
   "cell_type": "markdown",
   "id": "cab72cd5",
   "metadata": {},
   "source": [
    "Este notebook es una libreta inicial para explicar la utilización de Jupyter, dentro del trabajo de análisis de datos."
   ]
  },
  {
   "cell_type": "code",
   "execution_count": 8,
   "id": "2e68fe1e",
   "metadata": {},
   "outputs": [
    {
     "name": "stdout",
     "output_type": "stream",
     "text": [
      "Hola este es el curso de Análisis de datos\n"
     ]
    }
   ],
   "source": [
    "print (\"Hola este es el curso de Análisis de datos\")\n",
    "suma = 2 + 9"
   ]
  },
  {
   "cell_type": "code",
   "execution_count": 9,
   "id": "bd9914dc",
   "metadata": {},
   "outputs": [
    {
     "name": "stdout",
     "output_type": "stream",
     "text": [
      "El resultado de la suma es:\n",
      "11\n"
     ]
    }
   ],
   "source": [
    "print (\"El resultado de la suma es:\")\n",
    "print (suma)"
   ]
  },
  {
   "cell_type": "markdown",
   "id": "cc2fdb6c",
   "metadata": {},
   "source": [
    "### Fin de este ejemplo"
   ]
  }
 ],
 "metadata": {
  "kernelspec": {
   "display_name": "Python 3",
   "language": "python",
   "name": "python3"
  },
  "language_info": {
   "codemirror_mode": {
    "name": "ipython",
    "version": 3
   },
   "file_extension": ".py",
   "mimetype": "text/x-python",
   "name": "python",
   "nbconvert_exporter": "python",
   "pygments_lexer": "ipython3",
   "version": "3.8.8"
  }
 },
 "nbformat": 4,
 "nbformat_minor": 5
}
